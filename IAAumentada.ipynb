{
  "nbformat": 4,
  "nbformat_minor": 0,
  "metadata": {
    "colab": {
      "provenance": [],
      "authorship_tag": "ABX9TyObez5MzHb59uf20xU+zgZG",
      "include_colab_link": true
    },
    "kernelspec": {
      "name": "python3",
      "display_name": "Python 3"
    },
    "language_info": {
      "name": "python"
    }
  },
  "cells": [
    {
      "cell_type": "markdown",
      "metadata": {
        "id": "view-in-github",
        "colab_type": "text"
      },
      "source": [
        "<a href=\"https://colab.research.google.com/github/Tecindes/ClasificacionValidacion/blob/main/IAAumentada.ipynb\" target=\"_parent\"><img src=\"https://colab.research.google.com/assets/colab-badge.svg\" alt=\"Open In Colab\"/></a>"
      ]
    },
    {
      "cell_type": "code",
      "execution_count": 1,
      "metadata": {
        "colab": {
          "base_uri": "https://localhost:8080/"
        },
        "id": "Zpq330_WUz4w",
        "outputId": "136a2be2-3e1c-4d6e-a359-1ad1aa3662eb"
      },
      "outputs": [
        {
          "output_type": "stream",
          "name": "stdout",
          "text": [
            "Versión de pandas: 2.2.2\n",
            "Versión de numpy: 2.0.2\n",
            "Versión de scikit-learn (sklearn): 1.6.1\n",
            "Versión de seaborn: 0.13.2\n",
            "Versión de yellowbrick: 1.5\n"
          ]
        }
      ],
      "source": [
        "import pandas as pd\n",
        "import numpy as np\n",
        "import sklearn\n",
        "import seaborn as sns\n",
        "import yellowbrick\n",
        "\n",
        "print(f'Versión de pandas: {pd.__version__}')\n",
        "print(f'Versión de numpy: {np.__version__}')\n",
        "print(f'Versión de scikit-learn (sklearn): {sklearn.__version__}')\n",
        "print(f'Versión de seaborn: {sns.__version__}')\n",
        "print(f'Versión de yellowbrick: {yellowbrick.__version__}')"
      ]
    }
  ]
}